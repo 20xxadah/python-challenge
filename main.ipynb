{
 "cells": [
  {
   "cell_type": "code",
   "execution_count": 3,
   "id": "27c8ef0c-807b-4227-a4b8-b5b9c9ab8193",
   "metadata": {
    "tags": []
   },
   "outputs": [],
   "source": [
    "#import file\n",
    "from pathlib import Path\n",
    "import csv"
   ]
  },
  {
   "cell_type": "code",
   "execution_count": 5,
   "id": "5c2e453c-2337-4b86-a310-49f052c79e4a",
   "metadata": {
    "tags": []
   },
   "outputs": [],
   "source": [
    "#load files\n",
    "load_file = Path('Resources/budget_data.csv')\n",
    "output_file = Path('Analysis/Budget_analysis.txt')"
   ]
  },
  {
   "cell_type": "code",
   "execution_count": 6,
   "id": "ca3281eb-0adf-4b1f-acfe-a65134040b23",
   "metadata": {
    "tags": []
   },
   "outputs": [],
   "source": [
    "# Track various financial parameters\n",
    "total_months = 0\n",
    "month_of_change = []\n",
    "net_change_list = []\n",
    "greatest_increase = [\"\", 0]\n",
    "greatest_decrease = [\"\", 9999999999999999999]\n",
    "total_net = 0\n"
   ]
  },
  {
   "cell_type": "code",
   "execution_count": 8,
   "id": "e947ea59-a75b-48ee-85da-4792a399fb0e",
   "metadata": {
    "tags": []
   },
   "outputs": [],
   "source": [
    "#Read csv file and convert to list of dictionaries\n",
    "with open(load_file) as Financial_Data:\n",
    "    reader = csv.reader(Financial_Data)\n",
    "    header = next(reader)\n",
    "    \n",
    "    #extract first row\n",
    "    first_row = next(reader)\n",
    "    total_months = total_months + 1\n",
    "    total_net = total_net + int(first_row[1])\n",
    "    prev_net = int(first_row[1])\n",
    "    \n",
    "    for row in reader:\n",
    "        # Track the total\n",
    "        total_months = total_months + 1\n",
    "        total_net = total_net + int(row[1])\n",
    "        \n",
    "        # Track the net change\n",
    "        net_change = int(row[1]) - prev_net\n",
    "        prev_net = int(row[1])\n",
    "        net_change_list = net_change_list + [net_change]\n",
    "        month_of_change = month_of_change + [row[0]]\n",
    "\n",
    "        # Calculate the greatest increase\n",
    "        if net_change > greatest_increase[1]:\n",
    "            greatest_increase[0] = row[0]\n",
    "            greatest_increase[1] = net_change\n",
    "\n",
    "        # Calculate the greatest decrease\n",
    "        if net_change < greatest_decrease[1]:\n",
    "            greatest_decrease[0] = row[0]\n",
    "            greatest_decrease[1] = net_change"
   ]
  },
  {
   "cell_type": "code",
   "execution_count": 9,
   "id": "e2186778-6681-4301-a21a-1178f310858d",
   "metadata": {
    "tags": []
   },
   "outputs": [],
   "source": [
    "# Calculate the Average Net Change\n",
    "net_monthly_avg = round(sum(net_change_list) / len(net_change_list),2)"
   ]
  },
  {
   "cell_type": "code",
   "execution_count": 11,
   "id": "0e05ce39-16ca-43c0-acf6-5d91b167d130",
   "metadata": {
    "tags": []
   },
   "outputs": [],
   "source": [
    "# Export the results to text file\n",
    "with open(output_file, \"w\") as txt_file:\n",
    "    txt_file.write(f\"Financial Analysis\\n\")\n",
    "    txt_file.write(f\"----------------------------\\n\")\n",
    "    txt_file.write(f\"Total Months: {total_months}\\n\")\n",
    "    txt_file.write(f\"Total: ${total_net}\\n\")\n",
    "    txt_file.write(f\"Average  Change: ${net_monthly_avg}\\n\")\n",
    "    txt_file.write(f\"Greatest Increase in Profits: {greatest_increase[0]} (${greatest_increase[1]})\\n\")\n",
    "    txt_file.write(f\"Greatest Decrease in Profits: {greatest_decrease[0]} (${greatest_decrease[1]})\\n\")"
   ]
  },
  {
   "cell_type": "code",
   "execution_count": null,
   "id": "51536868-50ce-46d1-9323-44e23daaff5e",
   "metadata": {},
   "outputs": [],
   "source": []
  }
 ],
 "metadata": {
  "kernelspec": {
   "display_name": "Python 3 (ipykernel)",
   "language": "python",
   "name": "python3"
  },
  "language_info": {
   "codemirror_mode": {
    "name": "ipython",
    "version": 3
   },
   "file_extension": ".py",
   "mimetype": "text/x-python",
   "name": "python",
   "nbconvert_exporter": "python",
   "pygments_lexer": "ipython3",
   "version": "3.11.4"
  }
 },
 "nbformat": 4,
 "nbformat_minor": 5
}
